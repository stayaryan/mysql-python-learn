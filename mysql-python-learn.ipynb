{
 "cells": [
  {
   "cell_type": "code",
   "execution_count": 237,
   "id": "6b758571",
   "metadata": {},
   "outputs": [],
   "source": [
    "import mysql.connector"
   ]
  },
  {
   "cell_type": "markdown",
   "id": "a1c9f66c",
   "metadata": {},
   "source": [
    "### Connecting mysql to python"
   ]
  },
  {
   "cell_type": "code",
   "execution_count": 238,
   "id": "ec13574c",
   "metadata": {},
   "outputs": [],
   "source": [
    "mydb = mysql.connector.connect(\n",
    "    host = \"localhost\",\n",
    "    user = \"root\",\n",
    "    password = \"aryan2000\",\n",
    "    database = \"testdb\"\n",
    ")"
   ]
  },
  {
   "cell_type": "code",
   "execution_count": 239,
   "id": "e0b4ec1f",
   "metadata": {},
   "outputs": [
    {
     "name": "stdout",
     "output_type": "stream",
     "text": [
      "<mysql.connector.connection_cext.CMySQLConnection object at 0x109e348d0>\n"
     ]
    }
   ],
   "source": [
    "print(mydb)"
   ]
  },
  {
   "cell_type": "markdown",
   "id": "1926a6ec",
   "metadata": {},
   "source": [
    "### pointing a cursor to the database"
   ]
  },
  {
   "cell_type": "code",
   "execution_count": 240,
   "id": "c30fc5c3",
   "metadata": {},
   "outputs": [],
   "source": [
    "mycursor = mydb.cursor()"
   ]
  },
  {
   "cell_type": "markdown",
   "id": "1166947f",
   "metadata": {},
   "source": [
    "### Creating the Database"
   ]
  },
  {
   "cell_type": "code",
   "execution_count": 241,
   "id": "122fe887",
   "metadata": {},
   "outputs": [],
   "source": [
    "#mycursor.execute(\"CREATE DATABASE testdb\")"
   ]
  },
  {
   "cell_type": "markdown",
   "id": "4488fa37",
   "metadata": {},
   "source": [
    "### Show the database"
   ]
  },
  {
   "cell_type": "code",
   "execution_count": 242,
   "id": "2023a3f0",
   "metadata": {},
   "outputs": [],
   "source": [
    "# mycursor.execute(\"SHOW DATABASES\")\n",
    "# for db in mycursor:\n",
    "#     print(db)"
   ]
  },
  {
   "cell_type": "markdown",
   "id": "40185c70",
   "metadata": {},
   "source": [
    "### Create the table"
   ]
  },
  {
   "cell_type": "code",
   "execution_count": 243,
   "id": "a41396a4",
   "metadata": {},
   "outputs": [],
   "source": [
    "# mycursor.execute(\"create table students (name varchar(255), age integer(10))\")"
   ]
  },
  {
   "cell_type": "markdown",
   "id": "0c848217",
   "metadata": {},
   "source": [
    "### Show the table in the testdb database"
   ]
  },
  {
   "cell_type": "code",
   "execution_count": 244,
   "id": "d164b8f0",
   "metadata": {},
   "outputs": [],
   "source": [
    "# mycursor.execute(\"show tables\")\n",
    "# for t in mycursor:\n",
    "#     print(t)"
   ]
  },
  {
   "cell_type": "markdown",
   "id": "3575f18d",
   "metadata": {},
   "source": [
    "### Adding a record to the table"
   ]
  },
  {
   "cell_type": "code",
   "execution_count": 245,
   "id": "96244cec",
   "metadata": {},
   "outputs": [],
   "source": [
    "sqlQuery = \"insert into students (name, age) values (%s, %s)\"\n",
    "student1 = (\"Rachel\", 22)\n",
    "mycursor.execute(sqlQuery, student1)\n",
    "mydb.commit()"
   ]
  },
  {
   "cell_type": "markdown",
   "id": "6edcf170",
   "metadata": {},
   "source": [
    "### Adding multipe records to a table"
   ]
  },
  {
   "cell_type": "code",
   "execution_count": 246,
   "id": "472d45d1",
   "metadata": {},
   "outputs": [],
   "source": [
    "sqlQuery = \"insert into students (name, age) values(%s, %s)\"\n",
    "student = [(\"Rachel\", 23), (\"Jon Jones\", 36), \n",
    "           (\"Alex\", 35), (\"Tom\", 31), \n",
    "           (\"Mike\", 58), (\"CR7\", 39),\n",
    "           (\"Aryan\", 24), (\"Lebron\", 39)]\n",
    "mycursor.executemany(sqlQuery, student)\n",
    "mydb.commit()"
   ]
  },
  {
   "cell_type": "code",
   "execution_count": 247,
   "id": "cc863cff",
   "metadata": {},
   "outputs": [],
   "source": [
    "#print(students)"
   ]
  },
  {
   "cell_type": "code",
   "execution_count": 248,
   "id": "43a6f626",
   "metadata": {},
   "outputs": [],
   "source": [
    "def printTable():\n",
    "    mycursor = mydb.cursor()\n",
    "    sqlDisplay = \"select * from students\"\n",
    "#mycursor = mydb.cursor()\n",
    "    mycursor.execute(sqlDisplay)\n",
    "    myresult = mycursor.fetchall()\n",
    "    for i in myresult:\n",
    "        print(i)"
   ]
  },
  {
   "cell_type": "markdown",
   "id": "fe64f33f",
   "metadata": {},
   "source": [
    "### where and wildcards"
   ]
  },
  {
   "cell_type": "code",
   "execution_count": 249,
   "id": "1aadc8f3",
   "metadata": {},
   "outputs": [
    {
     "name": "stdout",
     "output_type": "stream",
     "text": [
      "('Jon Jones', 36)\n",
      "('Alex', 35)\n",
      "('Jordan', 58)\n",
      "('CR7', 39)\n",
      "('Lebron', 39)\n",
      "('Jon Jones', 36)\n",
      "('Alex', 35)\n",
      "('Jordan', 58)\n",
      "('CR7', 39)\n",
      "('Lebron', 39)\n",
      "('Jon Jones', 36)\n",
      "('Alex', 35)\n",
      "('Jordan', 58)\n",
      "('CR7', 39)\n",
      "('Lebron', 39)\n",
      "('Jon Jones', 36)\n",
      "('Alex', 35)\n",
      "('Jordan', 58)\n",
      "('CR7', 39)\n",
      "('Lebron', 39)\n",
      "('Jon Jones', 36)\n",
      "('Alex', 35)\n",
      "('Jordan', 58)\n",
      "('CR7', 39)\n",
      "('Lebron', 39)\n",
      "('Jon Jones', 36)\n",
      "('Alex', 35)\n",
      "('Mike', 58)\n",
      "('CR7', 39)\n",
      "('Lebron', 39)\n"
     ]
    }
   ],
   "source": [
    "sqlQuery = \"select * from students where age > 31\"\n",
    "mycursor.execute(sqlQuery)\n",
    "myresult = mycursor.fetchall()\n",
    "for i in myresult:\n",
    "    print(i)"
   ]
  },
  {
   "cell_type": "code",
   "execution_count": 250,
   "id": "0b627d40",
   "metadata": {},
   "outputs": [
    {
     "name": "stdout",
     "output_type": "stream",
     "text": [
      "('CR7', 39)\n",
      "('CR7', 39)\n",
      "('CR7', 39)\n",
      "('CR7', 39)\n",
      "('CR7', 39)\n",
      "('CR7', 39)\n"
     ]
    }
   ],
   "source": [
    "sqlQuery = \"select * from students where name = %s\"\n",
    "mycursor.execute(sqlQuery, (\"CR7\", ))\n",
    "myresult = mycursor.fetchall()\n",
    "for i in myresult:\n",
    "    print(i)\n",
    "    \n",
    "# use %s for a placeholder and then call mycursor.execute() with parameter as a tuple"
   ]
  },
  {
   "cell_type": "markdown",
   "id": "0dc4b6ab",
   "metadata": {},
   "source": [
    "### updating the table and limiting the results of queries"
   ]
  },
  {
   "cell_type": "code",
   "execution_count": 251,
   "id": "49f6c0f0",
   "metadata": {},
   "outputs": [],
   "source": [
    "sqlQuery = \"update students set name = %s where name = %s\"\n",
    "mycursor.execute(sqlQuery, (\"Jordan\", \"Mike\", ))\n",
    "mydb.commit()\n",
    "#printTable()"
   ]
  },
  {
   "cell_type": "code",
   "execution_count": 252,
   "id": "e0871b0f",
   "metadata": {},
   "outputs": [
    {
     "name": "stdout",
     "output_type": "stream",
     "text": [
      "('Rachel', 23)\n",
      "('Jon Jones', 36)\n",
      "('Alex', 35)\n",
      "('Tom', 31)\n",
      "('Jordan', 58)\n"
     ]
    }
   ],
   "source": [
    "#def limitView():\n",
    "mycursor = mydb.cursor()\n",
    "sqlQuery = \"select * from students limit 5 offset 2\"\n",
    "mycursor.execute(sqlQuery)\n",
    "myresult = mycursor.fetchall()\n",
    "for i in myresult:\n",
    "    print(i)\n",
    "    #printTable()"
   ]
  },
  {
   "cell_type": "code",
   "execution_count": 253,
   "id": "3c607a2c",
   "metadata": {},
   "outputs": [],
   "source": [
    "#limitView(5, 2)"
   ]
  },
  {
   "cell_type": "code",
   "execution_count": null,
   "id": "819694ec",
   "metadata": {},
   "outputs": [],
   "source": []
  },
  {
   "cell_type": "code",
   "execution_count": null,
   "id": "0407fb36",
   "metadata": {},
   "outputs": [],
   "source": []
  },
  {
   "cell_type": "code",
   "execution_count": null,
   "id": "4bad91d1",
   "metadata": {},
   "outputs": [],
   "source": []
  }
 ],
 "metadata": {
  "kernelspec": {
   "display_name": "Python 3 (ipykernel)",
   "language": "python",
   "name": "python3"
  },
  "language_info": {
   "codemirror_mode": {
    "name": "ipython",
    "version": 3
   },
   "file_extension": ".py",
   "mimetype": "text/x-python",
   "name": "python",
   "nbconvert_exporter": "python",
   "pygments_lexer": "ipython3",
   "version": "3.11.5"
  }
 },
 "nbformat": 4,
 "nbformat_minor": 5
}
